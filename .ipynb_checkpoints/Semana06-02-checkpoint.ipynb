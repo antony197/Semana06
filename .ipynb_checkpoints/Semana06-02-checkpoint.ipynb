{
 "cells": [
  {
   "cell_type": "markdown",
   "id": "d37f7001",
   "metadata": {},
   "source": [
    "# Semana 06\n",
    "Ccaccya Huaman Antony\n"
   ]
  },
  {
   "cell_type": "markdown",
   "id": "fc8c9619",
   "metadata": {},
   "source": [
    "#Temas\n",
    "\n",
    "1.Colecciones de datos\n",
    "\n",
    "2.Estructuras decisivas y Estructuras Repetitivas\n",
    "\n",
    "3.Funciones\n",
    "\n",
    "4.Clases y objetos\n",
    "\n",
    "2.Estructuras decisivas y Estructuras Repetitivas\n"
   ]
  },
  {
   "cell_type": "code",
   "execution_count": 1,
   "id": "15019b12",
   "metadata": {},
   "outputs": [
    {
     "name": "stdout",
     "output_type": "stream",
     "text": [
      "Precio del producto 1: 150\n",
      "Precio del producto 2: 200\n",
      "Precio del producto 3: 300\n",
      "La suma es:  650.0\n"
     ]
    }
   ],
   "source": [
    "# 2.1 Estructuras decisivas \n",
    "# Problema: Dado el precio de 3 productos ingresados por el teclado\n",
    "n1=float(input(\"Precio del producto 1: \"))\n",
    "n2=float(input(\"Precio del producto 2: \"))\n",
    "n3=float(input(\"Precio del producto 3: \"))\n",
    "suma=n1+n2+n3\n",
    "\n",
    "print(\"La suma es: \",suma)"
   ]
  },
  {
   "cell_type": "code",
   "execution_count": 4,
   "id": "913e9191",
   "metadata": {},
   "outputs": [
    {
     "name": "stdout",
     "output_type": "stream",
     "text": [
      "Ingrese el apellido del alumno: \n",
      "ALVA\n",
      "El apellido de ese alumno si esta en la lista LP3\n"
     ]
    }
   ],
   "source": [
    "# Problema 01 (Recordando)\n",
    "# Dado una lista de [ALANYA, ALVA, AZAÑERO, CARRASCO, CCACCYA, COSME, CUSI, DIAZ, FLORES, GOMEZ, GOMEZ, GRANADOS, HUANCAS, JULCA, LAURA,MOTTA,PINEDO,PONCE,QUINTANA,RODRIGUEZ,SERNA,VILCA,YAURICASA]\n",
    "# Diseñar un código que muestre si el apellido de un estudiante (Ingresado por teclado) forma parte de la lista\n",
    "LP3 = [\"ALANYA\", \"ALVA\", \"AZAÑERO\", \"CARRASCO\", \"CCACCYA\", \"COSME\", \"CUSI\", \"DIAZ\", \"FLORES\", \"GOMEZ\", \"GOMEZ\", \"GRANADOS\", \"HUANCAS\", \"JULCA\", \"LAURA\",\"MOTTA\",\"PINEDO\",\"PONCE\",\"QUINTANA\",\"RODRIGUEZ\",\"SERNA\",\"VILCA\",\"YAURICASA\"]\n",
    "print(\"Ingrese el apellido del alumno: \")\n",
    "apellido = input()\n",
    "\n",
    "if apellido in LP3 :\n",
    "    print(\"El apellido de ese alumno si esta en la lista LP3\")\n",
    "else:\n",
    "    print(\"El apellido de ese alumno no esta en la lista LP3\")"
   ]
  },
  {
   "cell_type": "code",
   "execution_count": 5,
   "id": "9c5ad5ae",
   "metadata": {},
   "outputs": [],
   "source": [
    "# Problema 02\n",
    "# Dado el importe total de ventas realizadas por un trabajador (ingresado por teclado, \n",
    "# categorizar que tipo de empleado es, considerando la siguiente tabla:\n",
    "\n",
    "# Categoria: A -> [0, 1000]\n",
    "# Categoria: B -> <1000, 2000]\n",
    "# Categoria: C -> <2000, 5000]\n",
    "# Categoría: D -> <5000, Mas]\n",
    "\n",
    "# Tiempo asignado: 12 minutos"
   ]
  },
  {
   "cell_type": "code",
   "execution_count": 8,
   "id": "39b7d651",
   "metadata": {},
   "outputs": [
    {
     "name": "stdout",
     "output_type": "stream",
     "text": [
      "Ingrese el monto de ventas que ha realizado: 5000\n",
      "USTED ES CATEGORIA 'C' \n"
     ]
    }
   ],
   "source": [
    "importe = float ( input(\"Ingrese el monto de ventas que ha realizado: \"))\n",
    "if importe >=0 and importe <=1000:\n",
    "    print (\"USTED ES CATEGORIA 'A'\")\n",
    "if importe>1000 and importe <=2000:\n",
    "    print(\"USTED ES CATEGORIA 'B' \")\n",
    "if importe>2000 and importe <= 5000:\n",
    "    print(\"USTED ES CATEGORIA 'C' \")\n",
    "if importe>5000:\n",
    "    print(\"USTED ES CATEGORIA 'D' \")\n"
   ]
  },
  {
   "cell_type": "code",
   "execution_count": 9,
   "id": "4b35c0d9",
   "metadata": {},
   "outputs": [],
   "source": [
    "#Ahora con elif"
   ]
  },
  {
   "cell_type": "code",
   "execution_count": 11,
   "id": "96a68701",
   "metadata": {},
   "outputs": [
    {
     "name": "stdout",
     "output_type": "stream",
     "text": [
      "Ingrese el monto de ventas que ha realizado: 5000\n",
      "USTED ES CATEGORIA 'C' \n"
     ]
    }
   ],
   "source": [
    "importe = float ( input(\"Ingrese el monto de ventas que ha realizado: \"))\n",
    "if importe >=0 and importe <=1000:\n",
    "    print (\"USTED ES CATEGORIA 'A'\")\n",
    "elif importe>1000 and importe <=2000:\n",
    "    print(\"USTED ES CATEGORIA 'B' \")\n",
    "elif importe>2000 and importe <= 5000:\n",
    "    print(\"USTED ES CATEGORIA 'C' \")\n",
    "elif importe>5000:\n",
    "    print(\"USTED ES CATEGORIA 'D' \")\n",
    "else :\n",
    "    print(\"NO PERTENECE A NINGUNA CATEGORIA\")"
   ]
  },
  {
   "cell_type": "code",
   "execution_count": 12,
   "id": "89b1a3f4",
   "metadata": {},
   "outputs": [
    {
     "name": "stdout",
     "output_type": "stream",
     "text": [
      "Ingrese cadena: Jose\n",
      "J\n",
      "o\n",
      "s\n",
      "e\n"
     ]
    }
   ],
   "source": [
    "#Problema 01 \n",
    "#Dado una cadena ingresado por teclado, mostrar cada caracter de la cadena, utilizando la estructura for\n",
    "cadena = input(\"Ingrese cadena: \")\n",
    "for caracter in cadena:\n",
    "    print(caracter)"
   ]
  },
  {
   "cell_type": "code",
   "execution_count": 13,
   "id": "3c2150b1",
   "metadata": {},
   "outputs": [
    {
     "data": {
      "text/plain": [
       "range(0, 5)"
      ]
     },
     "execution_count": 13,
     "metadata": {},
     "output_type": "execute_result"
    }
   ],
   "source": [
    "#Para generar rangos de los numeros range()\n",
    "range(5)\n"
   ]
  },
  {
   "cell_type": "code",
   "execution_count": 15,
   "id": "0c62a815",
   "metadata": {},
   "outputs": [
    {
     "name": "stdout",
     "output_type": "stream",
     "text": [
      "0\n",
      "1\n",
      "2\n",
      "3\n",
      "4\n",
      "5\n",
      "6\n",
      "7\n",
      "8\n",
      "9\n",
      "10\n"
     ]
    }
   ],
   "source": [
    "#Imprimir los numeros de 0 a 10 utilizados for\n",
    "for numero in range(11):\n",
    "    print(numero)"
   ]
  },
  {
   "cell_type": "code",
   "execution_count": 16,
   "id": "5b8d8321",
   "metadata": {},
   "outputs": [],
   "source": [
    "#Problema 03\n",
    "# Dado una lista de números, utilizando el algoritmo de burbuja ordenarlos de menor a mayor\n",
    "# Codigo en java\n",
    "# package ordenamiento;\n",
    "# public class burbuja {\n",
    "#    public static void main(String[] args) {\n",
    "#        int temp; \n",
    "#        int lista[]={10,20,5,-10,100, 0, 50, 17, 2000,-1000,0};\n",
    "#        for(int i=0;i<lista.length-1;i++){\n",
    "#            for(int j=i+1; j<lista.length; j++){\n",
    "#                if(lista[i]>lista[j]){\n",
    "#                    temp = lista[i];\n",
    "#                    lista[i] = lista[j];\n",
    "#                    lista[j] = temp;\n",
    "#                }                              \n",
    "# "
   ]
  },
  {
   "cell_type": "code",
   "execution_count": 17,
   "id": "17ace0e7",
   "metadata": {},
   "outputs": [
    {
     "name": "stdout",
     "output_type": "stream",
     "text": [
      "[10, 20, 5, -10, 100, 0, 50, 17, 2000, -1000, 0]\n",
      "[-10, 0, 5, 10, 20, -1000, 50, 100, 17, 0, 2000]\n"
     ]
    }
   ],
   "source": [
    "A=[10,20,5,-10,100,0,50,17,2000,-1000,0]\n",
    "print(A)\n",
    "\n",
    "for i in range(1,len(A)):\n",
    "    for j in range(0,len(A)-i):\n",
    "        if(A[j+i] < A[j]):\n",
    "            temp = A[j]\n",
    "            A[j]=A[j+1]\n",
    "            A[j+1]=temp\n",
    "\n",
    "print(A)"
   ]
  },
  {
   "cell_type": "code",
   "execution_count": 18,
   "id": "a330a906",
   "metadata": {},
   "outputs": [
    {
     "name": "stdout",
     "output_type": "stream",
     "text": [
      "1\n",
      "2\n",
      "3\n",
      "4\n",
      "5\n",
      "6\n",
      "7\n",
      "8\n",
      "9\n",
      "10\n"
     ]
    }
   ],
   "source": [
    "#Ejercicio:\n",
    "numero = 1\n",
    "fin = 10\n",
    "while numero <= fin:\n",
    "    print(numero)\n",
    "    numero+= 1"
   ]
  },
  {
   "cell_type": "code",
   "execution_count": null,
   "id": "7e7487c6",
   "metadata": {},
   "outputs": [],
   "source": []
  }
 ],
 "metadata": {
  "kernelspec": {
   "display_name": "Python 3 (ipykernel)",
   "language": "python",
   "name": "python3"
  },
  "language_info": {
   "codemirror_mode": {
    "name": "ipython",
    "version": 3
   },
   "file_extension": ".py",
   "mimetype": "text/x-python",
   "name": "python",
   "nbconvert_exporter": "python",
   "pygments_lexer": "ipython3",
   "version": "3.9.7"
  }
 },
 "nbformat": 4,
 "nbformat_minor": 5
}
