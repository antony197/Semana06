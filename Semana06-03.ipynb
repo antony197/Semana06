{
 "cells": [
  {
   "cell_type": "markdown",
   "id": "19432ad0",
   "metadata": {},
   "source": [
    "# Semana 06\n",
    "Ccaccya Huaman Antony\n"
   ]
  },
  {
   "cell_type": "markdown",
   "id": "df357abb",
   "metadata": {},
   "source": [
    "#Temas\n",
    "\n",
    "1.Colecciones de datos\n",
    "\n",
    "2.Estructuras decisivas y Estructuras Repetitivas\n",
    "\n",
    "3.Funciones\n",
    "\n",
    "4.Clases y objetos\n",
    "\n",
    "3.Funciones"
   ]
  },
  {
   "cell_type": "code",
   "execution_count": 1,
   "id": "80c44d1c",
   "metadata": {},
   "outputs": [],
   "source": [
    "#Tenemos 4 metodos:\n",
    "# -Metodos vacios\n",
    "# -Metodos que reciben valores\n",
    "# -Metodos que duelven valores\n",
    "# -Metodos que reciben y devuelven valores"
   ]
  },
  {
   "cell_type": "code",
   "execution_count": 5,
   "id": "3af997cb",
   "metadata": {},
   "outputs": [],
   "source": [
    "#3.2 Metodos que reciben valores\n",
    "\n",
    "def factorial(numero):\n",
    "    fac=1\n",
    "    for i in range(1, numero+1):\n",
    "        fac*=i\n",
    "        # fac = fac*i\n",
    "        print(f\"El factorial es: {fac}\")"
   ]
  },
  {
   "cell_type": "code",
   "execution_count": 6,
   "id": "888e1d13",
   "metadata": {},
   "outputs": [
    {
     "name": "stdout",
     "output_type": "stream",
     "text": [
      "Ingrese el Numero:8\n",
      "El factorial es: 1\n",
      "El factorial es: 2\n",
      "El factorial es: 6\n",
      "El factorial es: 24\n",
      "El factorial es: 120\n",
      "El factorial es: 720\n",
      "El factorial es: 5040\n",
      "El factorial es: 40320\n"
     ]
    }
   ],
   "source": [
    "numero = int(input(\"Ingrese el Numero:\"))\n",
    "factorial(numero)"
   ]
  },
  {
   "cell_type": "code",
   "execution_count": 7,
   "id": "f0eaf0fe",
   "metadata": {},
   "outputs": [],
   "source": [
    "# 3.1 Métodos vacíos\n",
    "# Explicación: No reciben valores(Parámetros)\n",
    "\n",
    "def saludo():\n",
    "    print(\"Bienvenidos al curso de LP3\")\n",
    "    print(\"***** PYTHON*****\")"
   ]
  },
  {
   "cell_type": "code",
   "execution_count": 8,
   "id": "c8392c49",
   "metadata": {},
   "outputs": [
    {
     "name": "stdout",
     "output_type": "stream",
     "text": [
      "Bienvenidos al curso de LP3\n",
      "***** PYTHON*****\n"
     ]
    }
   ],
   "source": [
    "saludo()"
   ]
  },
  {
   "cell_type": "code",
   "execution_count": 9,
   "id": "e9ac9128",
   "metadata": {},
   "outputs": [
    {
     "name": "stdout",
     "output_type": "stream",
     "text": [
      "Ingrese el Numero: 8\n",
      "El factorial es: 1\n",
      "El factorial es: 2\n",
      "El factorial es: 6\n",
      "El factorial es: 24\n",
      "El factorial es: 120\n",
      "El factorial es: 720\n",
      "El factorial es: 5040\n",
      "El factorial es: 40320\n"
     ]
    }
   ],
   "source": [
    "# 3.2 Métodos que reciben valores\n",
    "\n",
    "def factorial(numero):\n",
    "    fac=1\n",
    "    for i in range(1, numero+1):\n",
    "        fac*=i\n",
    "        # fac = fac*i\n",
    "        print(f\"El factorial es: {fac}\")\n",
    "numero = int(input(\"Ingrese el Numero: \"))\n",
    "factorial(numero)"
   ]
  },
  {
   "cell_type": "code",
   "execution_count": 10,
   "id": "80d374cb",
   "metadata": {},
   "outputs": [
    {
     "name": "stdout",
     "output_type": "stream",
     "text": [
      "Bienvenidos a LP3\n"
     ]
    }
   ],
   "source": [
    "# 3.3 Métodos que devuelven valores\n",
    "def saludo2():\n",
    "    mensaje = \"Bienvenidos a LP3\"\n",
    "    return mensaje\n",
    "print(saludo2())"
   ]
  },
  {
   "cell_type": "code",
   "execution_count": 11,
   "id": "d3fe2673",
   "metadata": {},
   "outputs": [
    {
     "name": "stdout",
     "output_type": "stream",
     "text": [
      "Numero: 3\n",
      "El factorial de 3  es 6\n"
     ]
    }
   ],
   "source": [
    "# 3.4 Métodos que reciben y devuelven valores\n",
    "\n",
    "def factorial2(numero):\n",
    "    fac = 1\n",
    "    for i in range(1, numero+1):\n",
    "        fac*=i\n",
    "    return fac\n",
    "numero = int(input(\"Numero: \"))\n",
    "print(f\"El factorial de {numero}  es {factorial2(numero)}\")"
   ]
  },
  {
   "cell_type": "code",
   "execution_count": 12,
   "id": "68b26ef9",
   "metadata": {},
   "outputs": [
    {
     "data": {
      "text/plain": [
       "28.5"
      ]
     },
     "execution_count": 12,
     "metadata": {},
     "output_type": "execute_result"
    }
   ],
   "source": [
    "# Otro ejemplo:\n",
    "# Calcular el igv\n",
    "\n",
    "def obtenerigv(importe):\n",
    "    return importe*0.19\n",
    "obtenerigv(150)"
   ]
  },
  {
   "cell_type": "code",
   "execution_count": null,
   "id": "ab2a585e",
   "metadata": {},
   "outputs": [],
   "source": []
  }
 ],
 "metadata": {
  "kernelspec": {
   "display_name": "Python 3 (ipykernel)",
   "language": "python",
   "name": "python3"
  },
  "language_info": {
   "codemirror_mode": {
    "name": "ipython",
    "version": 3
   },
   "file_extension": ".py",
   "mimetype": "text/x-python",
   "name": "python",
   "nbconvert_exporter": "python",
   "pygments_lexer": "ipython3",
   "version": "3.9.7"
  }
 },
 "nbformat": 4,
 "nbformat_minor": 5
}
