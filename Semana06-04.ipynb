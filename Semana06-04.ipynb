{
 "cells": [
  {
   "cell_type": "markdown",
   "id": "de3be25f",
   "metadata": {},
   "source": [
    "# Semana 06\n",
    "Ccaccya Huaman Antony"
   ]
  },
  {
   "cell_type": "markdown",
   "id": "81121136",
   "metadata": {},
   "source": [
    "#Temas\n",
    "\n",
    "1.Colecciones de datos\n",
    "\n",
    "2.Estructuras decisivas y Estructuras Repetitivas\n",
    "\n",
    "3.Funciones\n",
    "\n",
    "4.Clases y objetos\n",
    "\n",
    "4.Clases y objetos"
   ]
  },
  {
   "cell_type": "code",
   "execution_count": 1,
   "id": "1ce8d924",
   "metadata": {},
   "outputs": [],
   "source": [
    "# Problema 01\n",
    "# Crear la siguiente clase:\n",
    "# -Clase: Persona\n",
    "# -Atributos: nombre, apellido, talla, dni"
   ]
  },
  {
   "cell_type": "code",
   "execution_count": 11,
   "id": "4deb38e8",
   "metadata": {},
   "outputs": [],
   "source": [
    "class Persona:\n",
    "    nombre =\"\"\n",
    "    apellidos = \"\"\n",
    "    dni=\"\"\n",
    "    talla=0"
   ]
  },
  {
   "cell_type": "code",
   "execution_count": 13,
   "id": "8aa54538",
   "metadata": {},
   "outputs": [
    {
     "name": "stdout",
     "output_type": "stream",
     "text": [
      "persona1\n",
      "Nombre:Pablo\n",
      "Apellidos:Perez Gonzales\n",
      "DNI: 12345678\n",
      "Talla: 1.7\n"
     ]
    }
   ],
   "source": [
    "#Creamos el objeto personal de la clase Persona() y le asignamos valores\n",
    "#Creacion del objeto persona1\n",
    "persona1 = Persona()\n",
    "    \n",
    "#Le asignamos valores al objeto\n",
    "persona1.nombre = \"Pablo\"\n",
    "persona1.apellidos = \"Perez Gonzales\"\n",
    "persona1.dni = \"12345678\"\n",
    "persona1.talla = 1.7\n",
    "\n",
    "#Para mostrar los valores del objeto:\n",
    "\n",
    "print(\"persona1\")\n",
    "print(f\"Nombre:{persona1.nombre}\")\n",
    "print(f\"Apellidos:{persona1.apellidos}\")\n",
    "print(f\"DNI: {persona1.dni}\")\n",
    "print(f\"Talla: {persona1.talla}\")"
   ]
  },
  {
   "cell_type": "code",
   "execution_count": 14,
   "id": "8227d5be",
   "metadata": {},
   "outputs": [],
   "source": [
    "# Para utilizar constructores utilizados: _int_\n",
    "# ¿Que es un constructor?\n",
    "# -Es un metodo\n",
    "# -Sirve para inicializar valores a una clase\n"
   ]
  },
  {
   "cell_type": "code",
   "execution_count": 15,
   "id": "17702151",
   "metadata": {},
   "outputs": [],
   "source": [
    "# Problema 02:\n",
    "# Crear la siguiente clase y utilizar constructores:\n",
    "# -Clase : Curso\n",
    "# -Atributos: Codigo, Nombre, Horas, Creditos"
   ]
  },
  {
   "cell_type": "code",
   "execution_count": 27,
   "id": "2abc1220",
   "metadata": {},
   "outputs": [],
   "source": [
    "#Solucion:\n",
    "\n",
    "class Curso:\n",
    "    def __init__(self, codigo, nombre, horas, creditos):\n",
    "        self.codigo = codigo\n",
    "        self.nombre = nombre\n",
    "        self.horas = horas\n",
    "        self.creditos = creditos\n",
    "        \n",
    "    def mostrar_datos_curso(self):\n",
    "        print(f\"Curso: {self.nombre}\")\n",
    "        print(f\"Codigo: {self.codigo}\")\n",
    "        print(f\"Horas: {self.horas}\")\n",
    "        print(f\"Creditos: {self.creditos}\")"
   ]
  },
  {
   "cell_type": "code",
   "execution_count": 28,
   "id": "b25e5a33",
   "metadata": {},
   "outputs": [],
   "source": [
    "# Creamos el objeto curso1 y le mandamos parámetros\n",
    "curso1 = Curso(\"C0501\",\"LP3\",6,3)"
   ]
  },
  {
   "cell_type": "code",
   "execution_count": 29,
   "id": "e70ef46d",
   "metadata": {},
   "outputs": [
    {
     "name": "stdout",
     "output_type": "stream",
     "text": [
      "Curso: LP3\n",
      "Codigo: C0501\n",
      "Horas: 6\n",
      "Creditos: 3\n"
     ]
    }
   ],
   "source": [
    "# Mostramos los datos completos del curso, ejecutando el método ,ostrar_datos_curso()\n",
    "curso1.mostrar_datos_curso();"
   ]
  },
  {
   "cell_type": "code",
   "execution_count": null,
   "id": "6233ced6",
   "metadata": {},
   "outputs": [],
   "source": []
  }
 ],
 "metadata": {
  "kernelspec": {
   "display_name": "Python 3 (ipykernel)",
   "language": "python",
   "name": "python3"
  },
  "language_info": {
   "codemirror_mode": {
    "name": "ipython",
    "version": 3
   },
   "file_extension": ".py",
   "mimetype": "text/x-python",
   "name": "python",
   "nbconvert_exporter": "python",
   "pygments_lexer": "ipython3",
   "version": "3.9.7"
  }
 },
 "nbformat": 4,
 "nbformat_minor": 5
}
